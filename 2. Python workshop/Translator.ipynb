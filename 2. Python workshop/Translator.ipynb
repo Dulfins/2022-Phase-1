{
 "cells": [
  {
   "cell_type": "markdown",
   "metadata": {},
   "source": [
    "# Introduction\n",
    "The year is 2496.\n",
    "\n",
    "You're an astronaut on a space station in the Alpha Centauri star system located 4.1 x 1013 kilometres from the Earth (or in other words, a really long way away from home).\n",
    "\n",
    "You're conducting astrobiological experiments in search of extraterrestrial life and generally minding your own business while listening to lo-fi hip-hop (yes, it's still a thing even in the 25th century) when suddenly, you receive unexpected transmissions of unknown origin.\n",
    "\n",
    "Unfortunately, your advanced systems can only decode these transmissions into a file format known as comma-separated value files (more commonly referred to by 21st century millennials as CSV files) and none of your systems can decipher what's in them.\n",
    "\n",
    "Fortunately, your years of training at the Microsoft Space Academy had a course on Python (in case you ever needed to use one of the ancient languages). Use this knowledge to explore the transmission file and uncover the hidden message."
   ]
  },
  {
   "cell_type": "markdown",
   "metadata": {},
   "source": [
    "### Opening CSV File"
   ]
  },
  {
   "cell_type": "code",
   "execution_count": null,
   "metadata": {},
   "outputs": [],
   "source": [
    "from pprint import pprint\n",
    "\n",
    "csv_file = open(\"transmissions.csv\",\"r\")\n",
    "transmissions = []\n",
    "next(csv_file)\n",
    "for line in csv_file.readlines():\n",
    "    line = line.strip()\n",
    "    transmissions.append(line.split(','))  "
   ]
  },
  {
   "cell_type": "markdown",
   "metadata": {},
   "source": [
    "### Manipulating Data\n",
    "Summing all integers in a transmission"
   ]
  },
  {
   "cell_type": "code",
   "execution_count": null,
   "metadata": {},
   "outputs": [],
   "source": [
    "transmission_sums = []\n",
    "for id, transmission in transmissions:\n",
    "    sum = 0\n",
    "    for x in list(transmission):\n",
    "        if x.isdigit():\n",
    "            sum += int(x)\n",
    "    transmission_sums.append([int(id),sum])"
   ]
  },
  {
   "cell_type": "markdown",
   "metadata": {},
   "source": [
    "### Ordering transmissions and converting\n",
    "Converting digits into ASCII and ordering the transmissions by order"
   ]
  },
  {
   "cell_type": "code",
   "execution_count": null,
   "metadata": {},
   "outputs": [],
   "source": [
    "transmission_sums = sorted(transmission_sums) # Sorted by id in ascending order\n",
    "message_list = []\n",
    "for id, transmission in transmission_sums:\n",
    "    message_list.append(chr(transmission))\n",
    "message = ''.join(message_list)\n",
    "\n",
    "pprint(message)"
   ]
  }
 ],
 "metadata": {
  "interpreter": {
   "hash": "369f2c481f4da34e4445cda3fffd2e751bd1c4d706f27375911949ba6bb62e1c"
  },
  "kernelspec": {
   "display_name": "Python 3.10.4 64-bit",
   "language": "python",
   "name": "python3"
  },
  "language_info": {
   "codemirror_mode": {
    "name": "ipython",
    "version": 3
   },
   "file_extension": ".py",
   "mimetype": "text/x-python",
   "name": "python",
   "nbconvert_exporter": "python",
   "pygments_lexer": "ipython3",
   "version": "3.10.4"
  },
  "orig_nbformat": 4
 },
 "nbformat": 4,
 "nbformat_minor": 2
}
